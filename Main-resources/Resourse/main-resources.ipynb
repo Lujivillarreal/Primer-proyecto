{
 "cells": [
  {
   "cell_type": "code",
   "execution_count": null,
   "metadata": {},
   "outputs": [
    {
     "ename": "",
     "evalue": "",
     "output_type": "error",
     "traceback": [
      "\u001b[1;31mLa ejecución de celdas con 'Python 3.11.0 64-bit' requieren el paquete ipykernel.\n",
      "\u001b[1;31mEjecute el siguiente comando para instalar 'ipykernel' en el entorno de Python. comando \n",
      "\u001b[1;31m: 'c:/Users/delfi/AppData/Local/Programs/Python/Python311/python.exe -m pip install ipykernel -U --user --force-reinstall'"
     ]
    }
   ],
   "source": [
    "#VARUSUARIO\n",
    "#variableUsuario\n",
    "\n",
    "#definimos la forma de importacion\n",
    "from csv import excel\n",
    "import openpyxl\n",
    "\n",
    "#definimos la ubicación del archivo\n",
    "\n",
    "wb = openpyxl.load_workbook(\"/C:\\Desarrollo\\vigilante-aventura\\excel.xlsx\")\n",
    "\n",
    "print(wb.sheetnames)\n",
    "\n",
    "\"import\" \n",
    "ws = wb.get_sheet_byname(name = 'excel emails')\n",
    "\n",
    "\n",
    "#VARMARCA\n",
    "\n",
    "MARCA = \"CANNON\", \"PIERO\", \"SIMMONS\", \"KING KOIL\",  \"INDUCOL\", \"SERTA\", \"BEDTIME\", \"TELGO\", \"SEALY\", \"SUAVESTAR\"\n",
    "\n",
    "#VARMEDIDAS\n",
    "MEDIDAS =\"1 PLAZA \", \"1 PLZA ½\", \"2 PLAZAS \",\"PLAZAS ½\"\n",
    "\n",
    "#VARTIPO\n",
    "TIPO = \"RESORTES\", \"ESPUMA\"\n",
    "\n",
    "#VARCANTIDAD\n",
    "CANTIDAD = \"700-10.000\", \"10.000 A 15.000\", \"MAS DE 15.000\"\n",
    "\n",
    "#VARPRECIO\n",
    "PRECIO = \"40.000 A 70.000\", \"70.000 A 100.000\", \"MAS DE 100.000\"\n",
    "\n",
    "\n",
    "#FechaEntega\n",
    "import calendar\n",
    "\n",
    "\n",
    "\n",
    "\n",
    "\n",
    "\n"
   ]
  }
 ],
 "metadata": {
  "kernelspec": {
   "display_name": "Python 3.11.0 64-bit",
   "language": "python",
   "name": "python3"
  },
  "language_info": {
   "name": "python",
   "version": "3.11.0"
  },
  "orig_nbformat": 4,
  "vscode": {
   "interpreter": {
    "hash": "f6a252041ecc0784ee2315a1bf12ba734d97ee38cb5064581b12fb4ef85181e0"
   }
  }
 },
 "nbformat": 4,
 "nbformat_minor": 2
}
