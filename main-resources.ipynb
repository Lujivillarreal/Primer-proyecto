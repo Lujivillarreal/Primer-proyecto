{
 "cells": [
  {
   "cell_type": "code",
   "execution_count": null,
   "metadata": {},
   "outputs": [],
   "source": [
    "#VARMARCA\n",
    "MARCA = \"CANNON\", \"PIERO\", \"SIMMONS\", \"KING KOIL\",  \"INDUCOL\", \"SERTA\", \"BEDTIME\", \"TELGO\", \"SEALY\", \"SUAVESTAR\"\n",
    "\n",
    "#VARMEDIDAS\n",
    "MEDIDAS =\"1 PLAZA \", \"1 PLZA ½\", \"2 PLAZAS \",\"PLAZAS ½\"\n",
    "\n",
    "#VARTIPO\n",
    "TIPO = \"RESORTES\", \"ESPUMA\"\n",
    "\n",
    "#VARCANTIDAD\n",
    "CANTIDAD = \"700-10.000\", \"10.000 A 15.000\", \"MAS DE 15.000\"\n",
    "\n",
    "#VARPRECIO\n",
    "PRECIO = \"40.000 A 70.000\", \"70.000 A 100.000\", \"MAS DE 100.000\"\n",
    "\n",
    "\n",
    "#FechaEntega\n",
    "*calendar*\n",
    "\n",
    "\n",
    "\n",
    "\n",
    "\n"
   ]
  }
 ],
 "metadata": {
  "kernelspec": {
   "display_name": "Python 3.11.0 64-bit",
   "language": "python",
   "name": "python3"
  },
  "language_info": {
   "name": "python",
   "version": "3.11.0"
  },
  "orig_nbformat": 4,
  "vscode": {
   "interpreter": {
    "hash": "f6a252041ecc0784ee2315a1bf12ba734d97ee38cb5064581b12fb4ef85181e0"
   }
  }
 },
 "nbformat": 4,
 "nbformat_minor": 2
}
